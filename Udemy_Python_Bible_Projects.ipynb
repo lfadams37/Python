{
  "nbformat": 4,
  "nbformat_minor": 0,
  "metadata": {
    "colab": {
      "name": "Udemy Python Bible Projects",
      "provenance": [],
      "authorship_tag": "ABX9TyMwBR9VbWwvdbmzShMsFurw",
      "include_colab_link": true
    },
    "kernelspec": {
      "name": "python3",
      "display_name": "Python 3"
    }
  },
  "cells": [
    {
      "cell_type": "markdown",
      "metadata": {
        "id": "view-in-github",
        "colab_type": "text"
      },
      "source": [
        "<a href=\"https://colab.research.google.com/github/lfadams37/Udemy_Python_Bible/blob/master/Udemy_Python_Bible_Projects.ipynb\" target=\"_parent\"><img src=\"https://colab.research.google.com/assets/colab-badge.svg\" alt=\"Open In Colab\"/></a>"
      ]
    },
    {
      "cell_type": "markdown",
      "metadata": {
        "id": "WgeSrKglEqM2",
        "colab_type": "text"
      },
      "source": [
        "Health Potion"
      ]
    },
    {
      "cell_type": "code",
      "metadata": {
        "id": "GwymkcFBDqF9",
        "colab_type": "code",
        "colab": {
          "base_uri": "https://localhost:8080/",
          "height": 34
        },
        "outputId": "f1534861-c691-469f-bf64-8dcbd9e508c7"
      },
      "source": [
        "import random\n",
        "\n",
        "health = 50 \n",
        "\n",
        "difficulty = 3\n",
        "\n",
        "potion_health = int(random.randint(25,50) / difficulty)\n",
        "\n",
        "health  = health + potion_health\n",
        "\n",
        "print(health)"
      ],
      "execution_count": null,
      "outputs": [
        {
          "output_type": "stream",
          "text": [
            "63\n"
          ],
          "name": "stdout"
        }
      ]
    },
    {
      "cell_type": "markdown",
      "metadata": {
        "id": "T69UBltOErQV",
        "colab_type": "text"
      },
      "source": [
        "Inputs"
      ]
    },
    {
      "cell_type": "code",
      "metadata": {
        "id": "PT7ogEaIGEK7",
        "colab_type": "code",
        "colab": {
          "base_uri": "https://localhost:8080/",
          "height": 119
        },
        "outputId": "368c67f6-4ce4-4502-d160-b8a747735433"
      },
      "source": [
        "#ask user for name\n",
        "name = input('What is your name?: ')\n",
        "print(name)\n",
        "#ask user for age\n",
        "age = input('What is your age?: ')\n",
        "#ask user for city\n",
        "city = input('What city you live in?: ')\n",
        "#ask user what they enjoy\n",
        "love = input('What do you love doing?: ')\n",
        "#create output text\n",
        "string = 'Your name is {} and you are {} years old. You live in {} and you love {}.'\n",
        "output = string.format(name, age, city, love)\n",
        "#print output to screen\n",
        "print(output)"
      ],
      "execution_count": null,
      "outputs": [
        {
          "output_type": "stream",
          "text": [
            "What is your name?: Lee\n",
            "Lee\n",
            "What is your age?: 30\n",
            "What city you live in?: WH\n",
            "What do you love doing?: games\n",
            "Your name is Lee and you are 30 years old. You live in WH and you love games\n"
          ],
          "name": "stdout"
        }
      ]
    },
    {
      "cell_type": "markdown",
      "metadata": {
        "id": "U9epUJfEIdUw",
        "colab_type": "text"
      },
      "source": [
        "Email Slicer"
      ]
    },
    {
      "cell_type": "code",
      "metadata": {
        "id": "4iyhb2k9IfPx",
        "colab_type": "code",
        "colab": {
          "base_uri": "https://localhost:8080/",
          "height": 51
        },
        "outputId": "3343eb61-094d-4a5d-ac04-132b635fb9c0"
      },
      "source": [
        "#get user email address\n",
        "email = input('what is your email?: ').strip()\n",
        "#slice out user name\n",
        "user = email[:email.index('@')]\n",
        "#slice domain name\n",
        "domain = email[email.index('@')+1:]\n",
        "#format message\n",
        "output = 'Your username is {} and your domain is {}'.format(user,domain)\n",
        "print(output)"
      ],
      "execution_count": null,
      "outputs": [
        {
          "output_type": "stream",
          "text": [
            "what is your email?: lfadams37@gmail.com\n",
            "Your username is lfadams37 and your domain is gmail.com\n"
          ],
          "name": "stdout"
        }
      ]
    },
    {
      "cell_type": "markdown",
      "metadata": {
        "id": "ms-Qdte4Oobx",
        "colab_type": "text"
      },
      "source": [
        "Travis the Ridiculous Security System"
      ]
    },
    {
      "cell_type": "code",
      "metadata": {
        "id": "pjbFCllPO0ZY",
        "colab_type": "code",
        "colab": {}
      },
      "source": [
        "known_users = ['Alice','Bob','Charlie','Dan','Emma','Fred','Dan','Georgie','Harry']\n",
        "\n",
        "print(len(known_users))\n",
        "\n",
        "while True:\n",
        "  print('Hi! My name is Travis')\n",
        "  name = input('What is your name?: ').strip().capitalize()\n",
        "\n",
        "  if name in known_users:\n",
        "    print('Hello {}!'.format(name))\n",
        "    remove = input('Would you like to be removed from the system (y/n)?: ').lower()\n",
        "    if remove == 'y':\n",
        "      known_users.remove(name)\n",
        "    elif remove =='n':\n",
        "      print(\"No problem, I didn't want you to leave anyway!\")\n",
        "  else:\n",
        "    print(\"Hmmm I don't think I have met you yet {}\".format(name))\n",
        "    add_me = input(\"Would you like to be added to the system (y/n)?:\").strip().lower()\n",
        "    if add_me == 'y':\n",
        "      known_users.append(name)\n",
        "    elif add_me =='n':\n",
        "      print(\"No worries, see you around!\")\n",
        "     \n",
        "\n"
      ],
      "execution_count": null,
      "outputs": []
    },
    {
      "cell_type": "markdown",
      "metadata": {
        "id": "0FPdvtjdiRUH",
        "colab_type": "text"
      },
      "source": [
        "Cinema Simulator"
      ]
    },
    {
      "cell_type": "code",
      "metadata": {
        "id": "ywTpKNXwZw6s",
        "colab_type": "code",
        "colab": {}
      },
      "source": [
        ""
      ],
      "execution_count": null,
      "outputs": []
    }
  ]
}